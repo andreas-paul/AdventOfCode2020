{
 "cells": [
  {
   "cell_type": "code",
   "execution_count": 1,
   "metadata": {},
   "outputs": [],
   "source": [
    "import pandas as pd"
   ]
  },
  {
   "cell_type": "code",
   "execution_count": 8,
   "metadata": {},
   "outputs": [],
   "source": [
    "df = pd.read_csv('aoc_02_input.txt', names=['rule', 'password'], sep=':')"
   ]
  },
  {
   "cell_type": "code",
   "execution_count": 20,
   "metadata": {},
   "outputs": [],
   "source": [
    "df['char'] = df['rule'].apply(lambda x: x[-1])"
   ]
  },
  {
   "cell_type": "code",
   "execution_count": 22,
   "metadata": {},
   "outputs": [],
   "source": [
    "df['rule'] = df['rule'].str.split(' ', expand=True)"
   ]
  },
  {
   "cell_type": "code",
   "execution_count": 32,
   "metadata": {},
   "outputs": [],
   "source": [
    "df[['rule_min', 'rule_max']] = df['rule'].str.split('-', expand=True)"
   ]
  },
  {
   "cell_type": "code",
   "execution_count": 33,
   "metadata": {},
   "outputs": [
    {
     "data": {
      "text/html": [
       "<div>\n",
       "<style scoped>\n",
       "    .dataframe tbody tr th:only-of-type {\n",
       "        vertical-align: middle;\n",
       "    }\n",
       "\n",
       "    .dataframe tbody tr th {\n",
       "        vertical-align: top;\n",
       "    }\n",
       "\n",
       "    .dataframe thead th {\n",
       "        text-align: right;\n",
       "    }\n",
       "</style>\n",
       "<table border=\"1\" class=\"dataframe\">\n",
       "  <thead>\n",
       "    <tr style=\"text-align: right;\">\n",
       "      <th></th>\n",
       "      <th>rule</th>\n",
       "      <th>password</th>\n",
       "      <th>char</th>\n",
       "      <th>rule_min</th>\n",
       "      <th>rule_max</th>\n",
       "    </tr>\n",
       "  </thead>\n",
       "  <tbody>\n",
       "    <tr>\n",
       "      <th>0</th>\n",
       "      <td>9-10</td>\n",
       "      <td>bbktbbbxhfbpb</td>\n",
       "      <td>b</td>\n",
       "      <td>9</td>\n",
       "      <td>10</td>\n",
       "    </tr>\n",
       "    <tr>\n",
       "      <th>1</th>\n",
       "      <td>2-10</td>\n",
       "      <td>xxnxxxwxxsx</td>\n",
       "      <td>x</td>\n",
       "      <td>2</td>\n",
       "      <td>10</td>\n",
       "    </tr>\n",
       "    <tr>\n",
       "      <th>2</th>\n",
       "      <td>5-7</td>\n",
       "      <td>ghwwdrr</td>\n",
       "      <td>w</td>\n",
       "      <td>5</td>\n",
       "      <td>7</td>\n",
       "    </tr>\n",
       "    <tr>\n",
       "      <th>3</th>\n",
       "      <td>4-6</td>\n",
       "      <td>nzzjzk</td>\n",
       "      <td>z</td>\n",
       "      <td>4</td>\n",
       "      <td>6</td>\n",
       "    </tr>\n",
       "    <tr>\n",
       "      <th>4</th>\n",
       "      <td>7-8</td>\n",
       "      <td>szsssswfs</td>\n",
       "      <td>s</td>\n",
       "      <td>7</td>\n",
       "      <td>8</td>\n",
       "    </tr>\n",
       "    <tr>\n",
       "      <th>...</th>\n",
       "      <td>...</td>\n",
       "      <td>...</td>\n",
       "      <td>...</td>\n",
       "      <td>...</td>\n",
       "      <td>...</td>\n",
       "    </tr>\n",
       "    <tr>\n",
       "      <th>995</th>\n",
       "      <td>5-8</td>\n",
       "      <td>kkqkkkkkk</td>\n",
       "      <td>k</td>\n",
       "      <td>5</td>\n",
       "      <td>8</td>\n",
       "    </tr>\n",
       "    <tr>\n",
       "      <th>996</th>\n",
       "      <td>7-17</td>\n",
       "      <td>mqhnbwxnnnmcdlkfq</td>\n",
       "      <td>n</td>\n",
       "      <td>7</td>\n",
       "      <td>17</td>\n",
       "    </tr>\n",
       "    <tr>\n",
       "      <th>997</th>\n",
       "      <td>18-19</td>\n",
       "      <td>mmmmmmmmmmmmmmmmmmm</td>\n",
       "      <td>m</td>\n",
       "      <td>18</td>\n",
       "      <td>19</td>\n",
       "    </tr>\n",
       "    <tr>\n",
       "      <th>998</th>\n",
       "      <td>5-6</td>\n",
       "      <td>rrcrvmr</td>\n",
       "      <td>r</td>\n",
       "      <td>5</td>\n",
       "      <td>6</td>\n",
       "    </tr>\n",
       "    <tr>\n",
       "      <th>999</th>\n",
       "      <td>2-7</td>\n",
       "      <td>fdbvbdb</td>\n",
       "      <td>b</td>\n",
       "      <td>2</td>\n",
       "      <td>7</td>\n",
       "    </tr>\n",
       "  </tbody>\n",
       "</table>\n",
       "<p>1000 rows × 5 columns</p>\n",
       "</div>"
      ],
      "text/plain": [
       "      rule              password char rule_min rule_max\n",
       "0     9-10         bbktbbbxhfbpb    b        9       10\n",
       "1     2-10           xxnxxxwxxsx    x        2       10\n",
       "2      5-7               ghwwdrr    w        5        7\n",
       "3      4-6                nzzjzk    z        4        6\n",
       "4      7-8             szsssswfs    s        7        8\n",
       "..     ...                   ...  ...      ...      ...\n",
       "995    5-8             kkqkkkkkk    k        5        8\n",
       "996   7-17     mqhnbwxnnnmcdlkfq    n        7       17\n",
       "997  18-19   mmmmmmmmmmmmmmmmmmm    m       18       19\n",
       "998    5-6               rrcrvmr    r        5        6\n",
       "999    2-7               fdbvbdb    b        2        7\n",
       "\n",
       "[1000 rows x 5 columns]"
      ]
     },
     "execution_count": 33,
     "metadata": {},
     "output_type": "execute_result"
    }
   ],
   "source": [
    "df"
   ]
  },
  {
   "cell_type": "code",
   "execution_count": 35,
   "metadata": {},
   "outputs": [
    {
     "name": "stdout",
     "output_type": "stream",
     "text": [
      "643\n"
     ]
    }
   ],
   "source": [
    "valid = 0\n",
    "for i in range(len(df)):\n",
    "    count = df.at[i, 'password'].count(df.at[i, 'char'])\n",
    "    if int(df.at[i, 'rule_min']) <= count <= int(df.at[i, 'rule_max']):\n",
    "        valid += 1\n",
    "        \n",
    "print(valid)"
   ]
  },
  {
   "cell_type": "code",
   "execution_count": 37,
   "metadata": {},
   "outputs": [
    {
     "name": "stdout",
     "output_type": "stream",
     "text": [
      "388\n"
     ]
    }
   ],
   "source": [
    "valid = 0\n",
    "for i in range(len(df)):\n",
    "    rule_min = int(df.at[i, 'rule_min'])\n",
    "    rule_max = int(df.at[i, 'rule_max'])\n",
    "    password = df.at[i, 'password']\n",
    "    char = df.at[i, 'char']\n",
    "    \n",
    "    if (password[rule_min] == char and password[rule_max] != char) or (password[rule_min] != char and password[rule_max] == char):\n",
    "        valid += 1\n",
    "        \n",
    "print(valid)"
   ]
  }
 ],
 "metadata": {
  "kernelspec": {
   "display_name": "Python 3",
   "language": "python",
   "name": "python3"
  },
  "language_info": {
   "codemirror_mode": {
    "name": "ipython",
    "version": 3
   },
   "file_extension": ".py",
   "mimetype": "text/x-python",
   "name": "python",
   "nbconvert_exporter": "python",
   "pygments_lexer": "ipython3",
   "version": "3.8.5"
  }
 },
 "nbformat": 4,
 "nbformat_minor": 4
}
